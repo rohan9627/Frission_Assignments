{
 "cells": [
  {
   "cell_type": "code",
   "execution_count": 4,
   "id": "978fbae1-f955-40bc-b21e-0c797263224c",
   "metadata": {},
   "outputs": [
    {
     "name": "stdout",
     "output_type": "stream",
     "text": [
      "value of a and b before swapping are a=1,b=2 \n",
      "value of a and b after swapping are a=2,b=1 \n"
     ]
    }
   ],
   "source": [
    "# Question 1\n",
    "# Declare two variables, x and y, and assign them integer values. Swap the values of these variables without using any temporary variable.\n",
    "\n",
    "a = 1\n",
    "b=2 \n",
    "print(f\"value of a and b before swapping are a={a},b={b} \")\n",
    "\n",
    "b = a+b\n",
    "a = b-a\n",
    "b = b-a\n",
    "print(f\"value of a and b after swapping are a={a},b={b} \")"
   ]
  },
  {
   "cell_type": "code",
   "execution_count": 6,
   "id": "2a599845-fb10-4fda-bfa3-88244f29f036",
   "metadata": {},
   "outputs": [
    {
     "name": "stdin",
     "output_type": "stream",
     "text": [
      "enter the length of ractangle:  4\n",
      "enter the width of ractangle:  5\n"
     ]
    },
    {
     "name": "stdout",
     "output_type": "stream",
     "text": [
      "area of ractangle : 20\n"
     ]
    }
   ],
   "source": [
    "# Question 2\n",
    "# Create a program that calculates the area of a rectangle. Take the length and width as inputs from the user and store them in variables. Calculate and display the area.\n",
    "\n",
    "l = int(input(\"enter the length of ractangle: \"))\n",
    "w = int(input(\"enter the width of ractangle: \"))\n",
    "\n",
    "area = l*w \n",
    "print(f\"area of ractangle : {area}\")\n"
   ]
  },
  {
   "cell_type": "code",
   "execution_count": 8,
   "id": "6f13a0e7-5580-44a2-b1f7-25b676b9105b",
   "metadata": {},
   "outputs": [
    {
     "name": "stdin",
     "output_type": "stream",
     "text": [
      "enter the temp in celsius:  32\n"
     ]
    },
    {
     "name": "stdout",
     "output_type": "stream",
     "text": [
      "temperature in fahrenheit is: 89.6\n"
     ]
    }
   ],
   "source": [
    "# Question 3\n",
    "# Write a Python program that converts temperatures from Celsius to Fahrenheit. Take the temperature in Celsius as input, store it in a variable, convert it to Fahrenheit\n",
    "\n",
    "c = float(input(\"enter the temp in celsius: \"))\n",
    "\n",
    "f= (c* 9/5)+32\n",
    "\n",
    "print(f\"temperature in fahrenheit is: {f}\")"
   ]
  },
  {
   "cell_type": "code",
   "execution_count": 10,
   "id": "5c8739da-dab1-43e7-9249-aa96ac6beb4b",
   "metadata": {},
   "outputs": [],
   "source": [
    "# Question 4\n",
    "# Making function for split,upper,lower,strip,replace\n",
    "\n",
    "def split(string,limiter=\" \"):\n",
    "    a=[]\n",
    "    temp=\"\"\n",
    "    for i in string:\n",
    "        if i != limiter:\n",
    "            temp+= i\n",
    "        else:\n",
    "            a.append(temp)\n",
    "            temp=\"\"\n",
    "    a.append(temp)\n",
    "    return a\n",
    "\n",
    "# x= split(\"rohan is, a boy\",\" \")\n",
    "# print(x)\n",
    "\n",
    "\n",
    "######################################################\n",
    "def replace(sentence,char,rchar):\n",
    "    new=\"\"\n",
    "    for i in sentence:\n",
    "        if i == char:\n",
    "            new+=rchar\n",
    "        else:\n",
    "            new+=i\n",
    "    return new\n",
    "\n",
    "######################################################\n",
    "def upper(s):\n",
    "    result = \"\"\n",
    "    for i in s:\n",
    "        if 'a' <= i <= 'z':\n",
    "            result += chr(ord(i) - 32)\n",
    "        else:\n",
    "            result += i\n",
    "    return result\n",
    "######################################################\n",
    "def lower(s):\n",
    "    result = \"\"\n",
    "    for i in s:\n",
    "        if 'A' <=i <='Z':\n",
    "            result += chr(ord(i)+32)\n",
    "        else:\n",
    "            result+=i\n",
    "    return\n",
    "######################################################\n",
    "\n",
    "def stripp(s):\n",
    "    begin = 0\n",
    "    end =len(s)-1\n",
    "    while s[begin]==\" \" :               #this loop is used for lstrip\n",
    "            begin+=1\n",
    "    while s[end]==\" \":                  #this loop is used for rstrip\n",
    "            end -=1\n",
    "    return s[begin:end+1]\n",
    "\n",
    "# st = stripp(\" rohan the cool doodh   \")\n",
    "# print(st)"
   ]
  },
  {
   "cell_type": "code",
   "execution_count": null,
   "id": "57bcbe19-12bd-432b-8655-03be3fc65766",
   "metadata": {},
   "outputs": [],
   "source": []
  }
 ],
 "metadata": {
  "kernelspec": {
   "display_name": "Python [conda env:base] *",
   "language": "python",
   "name": "conda-base-py"
  },
  "language_info": {
   "codemirror_mode": {
    "name": "ipython",
    "version": 3
   },
   "file_extension": ".py",
   "mimetype": "text/x-python",
   "name": "python",
   "nbconvert_exporter": "python",
   "pygments_lexer": "ipython3",
   "version": "3.12.7"
  }
 },
 "nbformat": 4,
 "nbformat_minor": 5
}

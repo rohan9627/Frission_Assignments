{
 "cells": [
  {
   "cell_type": "code",
   "execution_count": 5,
   "id": "23fb8cbe-a3a2-43bd-be1f-29cb9b20b941",
   "metadata": {},
   "outputs": [
    {
     "data": {
      "text/plain": [
       "'hgfdsa'"
      ]
     },
     "execution_count": 5,
     "metadata": {},
     "output_type": "execute_result"
    }
   ],
   "source": [
    "#1. Write a program to reverse a string.\n",
    "s = \"asdfghai\"\n",
    "s[::-1]"
   ]
  },
  {
   "cell_type": "code",
   "execution_count": 9,
   "id": "0073b7d7-ef51-491d-b56f-09f5fab7d23f",
   "metadata": {},
   "outputs": [
    {
     "name": "stdout",
     "output_type": "stream",
     "text": [
      "is palindrome\n"
     ]
    }
   ],
   "source": [
    "#2. Check if a string is a palindrome.\n",
    "p = \"madam\"\n",
    "if p == p[::-1]:\n",
    "    print(\"is palindrome\")\n",
    "else:\n",
    "    print(\"not a palindrome\")"
   ]
  },
  {
   "cell_type": "code",
   "execution_count": 11,
   "id": "ced27185-3479-4326-a099-9748e6d32b48",
   "metadata": {},
   "outputs": [
    {
     "name": "stdout",
     "output_type": "stream",
     "text": [
      "ASDFGH\n",
      "asdfgh\n"
     ]
    }
   ],
   "source": [
    "# 3. Convert a string to uppercase\n",
    "print(s.upper())\n",
    "\n",
    "# 4. Convert a string to lowercase\n",
    "print(s.lower())"
   ]
  },
  {
   "cell_type": "code",
   "execution_count": 22,
   "id": "37a9d57a-a577-4269-80a9-3298949cf46c",
   "metadata": {},
   "outputs": [
    {
     "name": "stdout",
     "output_type": "stream",
     "text": [
      "5\n"
     ]
    }
   ],
   "source": [
    "#5. Count the number of vowels in a string.\n",
    "word = \"abcdefghijklmnopqrstuvwxyz\"\n",
    "v = \"aeiouAEIOU\"\n",
    "count = 0\n",
    "for i in word:\n",
    "    if i in v:\n",
    "        count +=1\n",
    "print(count)"
   ]
  },
  {
   "cell_type": "code",
   "execution_count": 28,
   "id": "b8b9661d-321e-4b67-ad79-beaddaeafad6",
   "metadata": {},
   "outputs": [
    {
     "name": "stdout",
     "output_type": "stream",
     "text": [
      "21\n"
     ]
    }
   ],
   "source": [
    "#6. Count the number of consonants in a string.\n",
    "v = \"aeiouAEIOU\"\n",
    "count = 0\n",
    "for i in word:\n",
    "    if i not in v:\n",
    "        count +=1\n",
    "print(count)"
   ]
  },
  {
   "cell_type": "code",
   "execution_count": 34,
   "id": "8516a3a8-fe4f-43f3-a1a2-15f80ae65bb7",
   "metadata": {},
   "outputs": [
    {
     "name": "stdout",
     "output_type": "stream",
     "text": [
      "hellomynameisrohan\n"
     ]
    }
   ],
   "source": [
    "#7. Remove all whitespaces from a string\n",
    "s1 = \"hello my name is rohan \"\n",
    "print(s1.replace(\" \", \"\"))"
   ]
  },
  {
   "cell_type": "code",
   "execution_count": 36,
   "id": "cf7cbcc9-9385-4ee3-910e-7e785a25b244",
   "metadata": {},
   "outputs": [
    {
     "name": "stdout",
     "output_type": "stream",
     "text": [
      "23\n"
     ]
    }
   ],
   "source": [
    "#8.Find the length of a string without using len()\n",
    "count = 0\n",
    "for i in s1:\n",
    "    count += 1\n",
    "print(count)"
   ]
  },
  {
   "cell_type": "code",
   "execution_count": 44,
   "id": "6e869fb8-eccb-44c6-a5f9-c8267028badb",
   "metadata": {},
   "outputs": [
    {
     "name": "stdout",
     "output_type": "stream",
     "text": [
      "True\n"
     ]
    }
   ],
   "source": [
    "#9. Check if a string contains a specific word\n",
    "b = \"asdfhd adfworldadf\"\n",
    "print(\"world\" in s)"
   ]
  },
  {
   "cell_type": "code",
   "execution_count": 48,
   "id": "29414a8e-6c87-4a2e-bfe8-ee23da8022c2",
   "metadata": {},
   "outputs": [
    {
     "name": "stdout",
     "output_type": "stream",
     "text": [
      "asdfhd adfPythonadf\n"
     ]
    }
   ],
   "source": [
    "#10. Replace a word in a string with another word\n",
    "print(b.replace(\"world\", \"Python\"))"
   ]
  },
  {
   "cell_type": "code",
   "execution_count": 52,
   "id": "b2566147-02bd-44e9-bef1-c42e3f14f534",
   "metadata": {},
   "outputs": [
    {
     "name": "stdout",
     "output_type": "stream",
     "text": [
      "0\n"
     ]
    }
   ],
   "source": [
    "#11. Count the occurrences of a word in a string\n",
    "print(b.count(\"hello\"))"
   ]
  },
  {
   "cell_type": "code",
   "execution_count": 54,
   "id": "50f8f070-20f9-4725-afaf-3049d805b2b0",
   "metadata": {},
   "outputs": [
    {
     "name": "stdout",
     "output_type": "stream",
     "text": [
      "10\n",
      "13\n"
     ]
    }
   ],
   "source": [
    "#12. Find the first occurrence of a word in a string\n",
    "print(b.find(\"world\"))\n",
    "\n",
    "#13. Find the last occurrence of a word in a string\n",
    "print(b.rfind(\"l\"))"
   ]
  },
  {
   "cell_type": "code",
   "execution_count": 58,
   "id": "a5ae0fbb-e4d6-446a-ae80-c2ee02853aa9",
   "metadata": {},
   "outputs": [
    {
     "name": "stdout",
     "output_type": "stream",
     "text": [
      "['asdfhd', 'adfworldadf']\n",
      "hello world\n",
      "asdfhd_adfworldadf\n"
     ]
    }
   ],
   "source": [
    "#14. Split a string into a list of words\n",
    "print(b.split())\n",
    "\n",
    "# 15. Join a list of words into a string\n",
    "w = [\"hello\", \"world\"]\n",
    "print(\" \".join(w))\n",
    "\n",
    "# 16. Convert words separated by spaces to underscores\n",
    "print(b.replace(\" \", \"_\"))"
   ]
  },
  {
   "cell_type": "code",
   "execution_count": 3,
   "id": "b51de10f-68d0-459a-96dd-59afb733cc16",
   "metadata": {},
   "outputs": [
    {
     "name": "stdout",
     "output_type": "stream",
     "text": [
      "True\n",
      "False\n"
     ]
    }
   ],
   "source": [
    "b = \"asdfhd adfworldadf\"\n",
    "#17. Check if a string starts with a specific word\n",
    "print(b.startswith(\"a\"))\n",
    "#18. Check if a string ends with a specific word\n",
    "print(b.endswith(\"z\"))"
   ]
  },
  {
   "cell_type": "code",
   "execution_count": 5,
   "id": "cb04b7ff-cc97-40e3-91da-2cfc63adeb1b",
   "metadata": {},
   "outputs": [
    {
     "name": "stdout",
     "output_type": "stream",
     "text": [
      "Asdfhd Adfworldadf\n"
     ]
    }
   ],
   "source": [
    "#19. Convert to title case\n",
    "print(b.title())"
   ]
  },
  {
   "cell_type": "code",
   "execution_count": 7,
   "id": "76ff750a-6788-45f9-818c-90ea1f67bcbc",
   "metadata": {},
   "outputs": [
    {
     "name": "stdout",
     "output_type": "stream",
     "text": [
      "adfworldadf\n"
     ]
    }
   ],
   "source": [
    "#20. Find the longest word in a string\n",
    "print(max(b.split(),key=len))"
   ]
  },
  {
   "cell_type": "code",
   "execution_count": 9,
   "id": "1a86f961-2936-4f4e-942b-3bac6a4baa75",
   "metadata": {},
   "outputs": [
    {
     "name": "stdout",
     "output_type": "stream",
     "text": [
      "asdfhd\n"
     ]
    }
   ],
   "source": [
    "#21. Find the shortest word in a string\n",
    "print(min(b.split(), key=len))"
   ]
  },
  {
   "cell_type": "code",
   "execution_count": 11,
   "id": "7db1413c-e54e-4875-bcd0-d9e81712cd58",
   "metadata": {},
   "outputs": [
    {
     "name": "stdout",
     "output_type": "stream",
     "text": [
      "olleh\n"
     ]
    }
   ],
   "source": [
    "#22. Reverse the order of words in a string\n",
    "\n",
    "word = \"hello\"\n",
    "reversed_word = word[::-1]\n",
    "print(reversed_word)"
   ]
  },
  {
   "cell_type": "code",
   "execution_count": 68,
   "id": "7d6dc941-1557-4b7e-8ce1-84d6fac72aba",
   "metadata": {},
   "outputs": [
    {
     "name": "stdout",
     "output_type": "stream",
     "text": [
      "string is alphanumeric.\n"
     ]
    }
   ],
   "source": [
    "word = \"hello7890\"\n",
    "if word.isalnum():\n",
    "    print(\"string is alphanumeric.\")\n",
    "else:\n",
    "    print(\"string is not alphanumeric.\")"
   ]
  },
  {
   "cell_type": "code",
   "execution_count": 76,
   "id": "918c4c75-ad0a-4292-8efb-e5d3a40b8359",
   "metadata": {},
   "outputs": [
    {
     "name": "stdout",
     "output_type": "stream",
     "text": [
      "7890\n"
     ]
    }
   ],
   "source": [
    "#24. Extract all digits from a string.\n",
    "word = \"hello7890\"\n",
    "v = \"1234567890\"\n",
    "new = \"\"\n",
    "for i in word:\n",
    "    if i in v:\n",
    "        new +=i\n",
    "print(new)"
   ]
  },
  {
   "cell_type": "code",
   "execution_count": 2,
   "id": "fdc03faa-ba60-4196-bdf7-246189669046",
   "metadata": {},
   "outputs": [
    {
     "name": "stdout",
     "output_type": "stream",
     "text": [
      "abcXYZ\n"
     ]
    }
   ],
   "source": [
    "#25. Extract all alphabets from a string.\n",
    "s = \"abc123!@#XYZ\"\n",
    "alphabets = \"\"\n",
    "for char in s:\n",
    "    if char.isalpha():\n",
    "        alphabets += char\n",
    "print(alphabets)"
   ]
  },
  {
   "cell_type": "code",
   "execution_count": 4,
   "id": "5eb4c101-3058-4ceb-a19c-5f2d5e93b54d",
   "metadata": {},
   "outputs": [
    {
     "name": "stdout",
     "output_type": "stream",
     "text": [
      "0\n"
     ]
    }
   ],
   "source": [
    "#26. Count the number of uppercase letters in a string.\n",
    "s = \"sfkgmfvmf gspgopsdk\"\n",
    "count = 0\n",
    "for char in s:\n",
    "    if char.isupper():\n",
    "        count += 1\n",
    "print(count)"
   ]
  },
  {
   "cell_type": "code",
   "execution_count": 6,
   "id": "1b1dc7ee-2c1f-40aa-8b71-a605db0ecfc5",
   "metadata": {},
   "outputs": [
    {
     "name": "stdout",
     "output_type": "stream",
     "text": [
      "7\n"
     ]
    }
   ],
   "source": [
    "#27. Count the number of lowercase letters in a string.\n",
    "s = \"heeello WORLD\"\n",
    "count = 0\n",
    "for char in s:\n",
    "    if char.islower():\n",
    "        count += 1\n",
    "print(count)"
   ]
  },
  {
   "cell_type": "code",
   "execution_count": 8,
   "id": "ef8193f0-fee1-412a-af20-086e7b168636",
   "metadata": {},
   "outputs": [
    {
     "name": "stdout",
     "output_type": "stream",
     "text": [
      "hELLO WORLD\n"
     ]
    }
   ],
   "source": [
    "#28. Swap the case of each character in a string.\n",
    "s = \"Hello world\"\n",
    "swapped = s.swapcase()\n",
    "print(swapped)"
   ]
  },
  {
   "cell_type": "code",
   "execution_count": 12,
   "id": "e40a2e79-88c0-4f4a-97e7-75267226fd6e",
   "metadata": {},
   "outputs": [
    {
     "name": "stdout",
     "output_type": "stream",
     "text": [
      "sdbfdf djfjh dAjdf\n"
     ]
    }
   ],
   "source": [
    "#29. Remove a specific word from a string.\n",
    "s = \"asdbfadf djfjh dAjdf\"\n",
    "wordToRemove = \"a\"\n",
    "result = s.replace(wordToRemove, \"\")\n",
    "print(result.strip())"
   ]
  },
  {
   "cell_type": "code",
   "execution_count": 14,
   "id": "2bbfc73b-234a-48bb-9ab1-b41daff34372",
   "metadata": {},
   "outputs": [
    {
     "name": "stdout",
     "output_type": "stream",
     "text": [
      "True\n"
     ]
    }
   ],
   "source": [
    "# 30. Check if a string is a valid email address\n",
    "import re\n",
    "s = \"test@example.com\"\n",
    "print(bool(re.match(r\"^[\\w\\.-]+@[\\w\\.-]+\\.\\w+$\", s)))"
   ]
  },
  {
   "cell_type": "code",
   "execution_count": 16,
   "id": "7a5a63c2-1738-4bb1-a297-322dcf447068",
   "metadata": {},
   "outputs": [
    {
     "name": "stdout",
     "output_type": "stream",
     "text": [
      "test\n"
     ]
    }
   ],
   "source": [
    "# 31. Extract the username from an email address\n",
    "print(s.split(\"@\")[0])"
   ]
  },
  {
   "cell_type": "code",
   "execution_count": 18,
   "id": "8b4a788c-c45f-4907-9519-267a56fae1ff",
   "metadata": {},
   "outputs": [
    {
     "name": "stdout",
     "output_type": "stream",
     "text": [
      "example.com\n"
     ]
    }
   ],
   "source": [
    "# 32. Extract the domain name from an email address\n",
    "print(s.split(\"@\")[1])"
   ]
  },
  {
   "cell_type": "code",
   "execution_count": 20,
   "id": "08d74290-bf4d-48ad-88df-295fa32f4dbe",
   "metadata": {},
   "outputs": [
    {
     "name": "stdout",
     "output_type": "stream",
     "text": [
      "hello world\n"
     ]
    }
   ],
   "source": [
    "# 33. Replace multiple spaces with a single space\n",
    "s = \"hello     world\"\n",
    "print(\" \".join(s.split()))\n"
   ]
  },
  {
   "cell_type": "code",
   "execution_count": 22,
   "id": "e0706242-162b-4d3e-9780-1457478a858d",
   "metadata": {},
   "outputs": [
    {
     "name": "stdout",
     "output_type": "stream",
     "text": [
      "True\n"
     ]
    }
   ],
   "source": [
    "# 34. Check if a string is a valid URL\n",
    "s = \"https://www.google.com\"\n",
    "print(bool(re.match(r\"^https?://[^\\s]+$\", s)))"
   ]
  },
  {
   "cell_type": "code",
   "execution_count": 24,
   "id": "308c91ff-5b58-4358-936e-1dd7091e06af",
   "metadata": {},
   "outputs": [
    {
     "name": "stdout",
     "output_type": "stream",
     "text": [
      "https\n"
     ]
    }
   ],
   "source": [
    "# 35. Extract the protocol from a URL\n",
    "print(s.split(\"://\")[0])"
   ]
  },
  {
   "cell_type": "code",
   "execution_count": 26,
   "id": "f3a2f2ec-242b-493d-b048-4fc8970cb926",
   "metadata": {},
   "outputs": [
    {
     "name": "stdout",
     "output_type": "stream",
     "text": [
      "{'h': 1, 'e': 1, 'l': 2, 'o': 1}\n"
     ]
    }
   ],
   "source": [
    "# 36. Find the frequency of each character\n",
    "from collections import Counter\n",
    "print(dict(Counter(\"hello\")))"
   ]
  },
  {
   "cell_type": "code",
   "execution_count": 28,
   "id": "b77d974c-74d2-4847-b245-0201f73e66cc",
   "metadata": {},
   "outputs": [
    {
     "name": "stdout",
     "output_type": "stream",
     "text": [
      "Hello world\n"
     ]
    }
   ],
   "source": [
    "# 37. Remove all punctuation\n",
    "import string\n",
    "s = \"Hello, world!\"\n",
    "print(\"\".join(c for c in s if c not in string.punctuation))"
   ]
  },
  {
   "cell_type": "code",
   "execution_count": 30,
   "id": "71b2e164-3808-405f-baf9-6c52a64b35dd",
   "metadata": {},
   "outputs": [
    {
     "name": "stdout",
     "output_type": "stream",
     "text": [
      "True\n"
     ]
    }
   ],
   "source": [
    "# 38. Check if a string contains only digits\n",
    "s = \"12345\"\n",
    "print(s.isdigit())"
   ]
  },
  {
   "cell_type": "code",
   "execution_count": 32,
   "id": "4ff88922-782a-4d29-9a53-6b5053b119b6",
   "metadata": {},
   "outputs": [
    {
     "name": "stdout",
     "output_type": "stream",
     "text": [
      "True\n"
     ]
    }
   ],
   "source": [
    "# 39. Check if a string contains only alphabets\n",
    "s = \"abcde\"\n",
    "print(s.isalpha())"
   ]
  },
  {
   "cell_type": "code",
   "execution_count": 34,
   "id": "212a0ae6-d0e3-413f-8970-ef982e2b62cb",
   "metadata": {},
   "outputs": [
    {
     "name": "stdout",
     "output_type": "stream",
     "text": [
      "['a', 'b', 'c', 'd', 'e']\n"
     ]
    }
   ],
   "source": [
    "# 40. Convert a string to a list of characters\n",
    "print(list(s))\n"
   ]
  },
  {
   "cell_type": "code",
   "execution_count": 36,
   "id": "5e1bfe82-efba-4ef7-b04a-82809b04f04a",
   "metadata": {},
   "outputs": [
    {
     "name": "stdout",
     "output_type": "stream",
     "text": [
      "True\n"
     ]
    }
   ],
   "source": [
    "# 41. Check if two strings are anagrams\n",
    "a, b = \"listen\", \"silent\"\n",
    "print(sorted(a) == sorted(b))"
   ]
  },
  {
   "cell_type": "code",
   "execution_count": 38,
   "id": "7acdb7a2-cc9e-488e-ba74-67111a62dffe",
   "metadata": {},
   "outputs": [
    {
     "name": "stdout",
     "output_type": "stream",
     "text": [
      "def\n"
     ]
    }
   ],
   "source": [
    "# 42. Encode a string using Caesar cipher\n",
    "s = \"abc\"\n",
    "shift = 3\n",
    "print(\"\".join(chr((ord(c)-97+shift)%26 + 97) for c in s))"
   ]
  },
  {
   "cell_type": "code",
   "execution_count": 40,
   "id": "a6b9278e-872d-4d14-babc-ce55b11872d5",
   "metadata": {},
   "outputs": [
    {
     "name": "stdout",
     "output_type": "stream",
     "text": [
      "xpac\n"
     ]
    }
   ],
   "source": [
    "# 43. Decode a Caesar cipher encoded string\n",
    "encoded = \"asdf\"\n",
    "shift = 3\n",
    "decoded = \"\"\n",
    "for char in encoded:\n",
    "    new_char = chr((ord(char) - 97 - shift) % 26 + 97)\n",
    "    decoded += new_char\n",
    "\n",
    "print(decoded)"
   ]
  },
  {
   "cell_type": "code",
   "execution_count": 42,
   "id": "6a504801-f7b1-4795-b59f-21bb474d21c5",
   "metadata": {},
   "outputs": [
    {
     "name": "stdout",
     "output_type": "stream",
     "text": [
      "apple\n"
     ]
    }
   ],
   "source": [
    "# 44. Find the most frequent word in a string\n",
    "s = \"apple banana apple orange banana apple\"\n",
    "words = s.split()\n",
    "print(max(set(words), key=words.count))"
   ]
  },
  {
   "cell_type": "code",
   "execution_count": 44,
   "id": "4cf4b33e-3023-4c49-b7ca-b9aa7b1e762d",
   "metadata": {},
   "outputs": [
    {
     "name": "stdout",
     "output_type": "stream",
     "text": [
      "{'banana', 'apple', 'orange'}\n"
     ]
    }
   ],
   "source": [
    "# 45. Find all unique words in a string\n",
    "print(set(s.split()))"
   ]
  },
  {
   "cell_type": "code",
   "execution_count": 46,
   "id": "198ed5f8-ee81-4541-a54a-cdcad2688508",
   "metadata": {},
   "outputs": [
    {
     "name": "stdout",
     "output_type": "stream",
     "text": [
      "15\n"
     ]
    }
   ],
   "source": [
    "# 46. Count the number of syllables (rough estimate: count vowels)\n",
    "print(sum(1 for c in s if c in \"aeiouAEIOU\"))"
   ]
  },
  {
   "cell_type": "code",
   "execution_count": 48,
   "id": "daffc6f0-0802-4196-aebb-2c08c0b40840",
   "metadata": {},
   "outputs": [
    {
     "name": "stdout",
     "output_type": "stream",
     "text": [
      "True\n"
     ]
    }
   ],
   "source": [
    "# 47. Check if a string contains any special characters\n",
    "s = \"hello@world\"\n",
    "print(any(not c.isalnum() and not c.isspace() for c in s))"
   ]
  },
  {
   "cell_type": "code",
   "execution_count": 50,
   "id": "c5fcab48-482d-4f74-9968-0f41dc9c1164",
   "metadata": {},
   "outputs": [
    {
     "name": "stdout",
     "output_type": "stream",
     "text": [
      "one two four\n"
     ]
    }
   ],
   "source": [
    "# 48. Remove the nth word from a string\n",
    "s = \"one two three four\"\n",
    "n = 2\n",
    "words = s.split()\n",
    "words.pop(n)\n",
    "print(\" \".join(words))"
   ]
  },
  {
   "cell_type": "code",
   "execution_count": 435,
   "id": "7c62c893-5550-494d-99e8-f6cf9a161ef0",
   "metadata": {},
   "outputs": [
    {
     "name": "stdout",
     "output_type": "stream",
     "text": [
      "one inserted two three\n"
     ]
    }
   ],
   "source": [
    "# 49. Insert a word at the nth position\n",
    "s = \"one two three\"\n",
    "n = 1\n",
    "word = \"inserted\"\n",
    "words = s.split()\n",
    "words.insert(n, word)\n",
    "print(\" \".join(words))\n"
   ]
  },
  {
   "cell_type": "code",
   "execution_count": null,
   "id": "96fbeb0d-52d0-431b-a926-b6040b8ad29f",
   "metadata": {},
   "outputs": [],
   "source": [
    "#50 converting csv_string into lists of list\n",
    "csv_str = \"Name,Age,City\\nAlice,30,New York\\nBob,25,London\"\n",
    "rows = csv_str.split('\\n')\n",
    "result = []\n",
    "for row in rows:\n",
    "    result += [row.split(',')]\n",
    "print(result)"
   ]
  },
  {
   "cell_type": "code",
   "execution_count": 437,
   "id": "5bdd7413-5100-400c-a061-0c0500919148",
   "metadata": {},
   "outputs": [],
   "source": [
    "##list\n",
    "# 1. Create a list with integers from 1 to 10.\n",
    "# 2. Find the length of a list without using the `len()` function.\n",
    "# 3. Append an element to the end of a list.\n",
    "# 4. Insert an element at a specific index in a list.\n",
    "# 5. Remove an element from a list by its value.\n",
    "# 6. Remove an element from a list by its index.\n",
    "# 7. Check if an element exists in a list.\n",
    "# 8. Find the index of the first occurrence of an element in a list.\n",
    "# 9. Count the occurrences of an element in a list.\n",
    "# 10. Reverse the order of elements in a list.\n",
    "# 11. Sort a list in ascending order.\n",
    "# 12. Sort a list in descending order.\n",
    "# 13. Create a list of even numbers from 1 to 20.\n",
    "# 14. Create a list of odd numbers from 1 to 20.\n",
    "# 15. Find the sum of all elements in a list.\n",
    "# 16. Find the maximum value in a list.\n",
    "# 17. Find the minimum value in a list.\n",
    "# 18. Create a list of squares of numbers from 1 to 10.\n",
    "# 19. Create a list of random numbers.\n",
    "# 20. Remove duplicates from a list.\n",
    "# 21. Find the common elements between two lists.\n",
    "# 22. Find the difference between two lists.\n",
    "# 23. Merge two lists.\n",
    "# 24. Multiply all elements in a list by 2.\n",
    "# 25. Filter out all even numbers from a list.\n",
    "# 26. Convert a list of strings to a list of integers.\n",
    "# 27. Convert a list of integers to a list of strings.\n",
    "# 28. Flatten a nested list.\n",
    "# 29. Create a list of the first 10 Fibonacci numbers.\n",
    "# 30. Check if a list is sorted.\n",
    "# 31. Rotate a list to the left by `n` positions.\n",
    "# 32. Rotate a list to the right by `n` positions.\n",
    "# 33. Create a list of prime numbers up to 50.\n",
    "# 34. Split a list into chunks of size `n`.\n",
    "# 35. Find the second largest number in a list.\n",
    "# 36. Replace every element in a list with its square.\n",
    "# 37. Convert a list to a dictionary where list elements become keys and their\n",
    "# indices become values.\n",
    "# 38. Shuffle the elements of a list randomly.\n",
    "# 39. Create a list of the first 10 factorial numbers.\n",
    "# 40. Check if two lists have at least one element in common.\n",
    "# 41. Remove all elements from a list.\n",
    "# 42. Replace negative numbers in a list with 0.\n",
    "# 43. Convert a string into a list of words.\n",
    "# 44. Convert a list of words into a string.\n",
    "# 45. Create a list of the first `n` powers of 2.\n",
    "# 46. Find the longest string in a list of strings.\n",
    "# 47. Find the shortest string in a list of strings.\n",
    "# 48. Create a list of the first `n` triangular numbers.\n",
    "# 49. Check if a list contains another list as a subsequence.\n",
    "# 50. Swap two elements in a list by their indices."
   ]
  },
  {
   "cell_type": "code",
   "execution_count": null,
   "id": "5c411753-c445-43d1-9c69-99dd75748269",
   "metadata": {},
   "outputs": [],
   "source": [
    "l=list(range(1,11))\n",
    "l"
   ]
  },
  {
   "cell_type": "code",
   "execution_count": 86,
   "id": "e2d8cb9f-540f-423b-a0e2-b21291799f95",
   "metadata": {},
   "outputs": [
    {
     "name": "stdout",
     "output_type": "stream",
     "text": [
      "9\n"
     ]
    }
   ],
   "source": [
    "l=[1, 2, 3, 4, 5, 6, 7, 8,'rohan']\n",
    "count=0\n",
    "for i in l:\n",
    "    if i !=\"\":\n",
    "        count+=1\n",
    "print(count)"
   ]
  },
  {
   "cell_type": "code",
   "execution_count": 88,
   "id": "f22953d0-6918-4127-8e82-a5be97da06c4",
   "metadata": {},
   "outputs": [
    {
     "data": {
      "text/plain": [
       "[1, 2, 3, 4, 5, 6, 7, 8, 'rohan', 4]"
      ]
     },
     "execution_count": 88,
     "metadata": {},
     "output_type": "execute_result"
    }
   ],
   "source": [
    "l.append(4)\n",
    "l"
   ]
  },
  {
   "cell_type": "code",
   "execution_count": 90,
   "id": "e8c779f8-d528-414c-b1fa-7c49cf7250ef",
   "metadata": {},
   "outputs": [
    {
     "data": {
      "text/plain": [
       "[1, 2, 3, 'negi', 4, 5, 6, 7, 8, 'rohan', 4]"
      ]
     },
     "execution_count": 90,
     "metadata": {},
     "output_type": "execute_result"
    }
   ],
   "source": [
    "l.insert(3,'negi') # uses index for place to insert value\n",
    "l"
   ]
  },
  {
   "cell_type": "code",
   "execution_count": 94,
   "id": "f7300287-48ad-4f1d-8c92-14bc83685fc3",
   "metadata": {},
   "outputs": [
    {
     "data": {
      "text/plain": [
       "[1, 2, 3, 'negi', 5, 6, 7, 8, 'rohan']"
      ]
     },
     "execution_count": 94,
     "metadata": {},
     "output_type": "execute_result"
    }
   ],
   "source": [
    "l.remove(4)\n",
    "l"
   ]
  },
  {
   "cell_type": "code",
   "execution_count": 96,
   "id": "62aa9f46-79c9-4b97-9565-91157afc8067",
   "metadata": {},
   "outputs": [
    {
     "name": "stdout",
     "output_type": "stream",
     "text": [
      "exists in list\n"
     ]
    }
   ],
   "source": [
    "e=1\n",
    "if e in l:\n",
    "    print(\"exists in list\")\n",
    "else:\n",
    "    print(\"not exist\")"
   ]
  },
  {
   "cell_type": "code",
   "execution_count": 100,
   "id": "b7ba6e2b-fcaf-4f99-9284-50a672f688e7",
   "metadata": {},
   "outputs": [
    {
     "data": {
      "text/plain": [
       "1"
      ]
     },
     "execution_count": 100,
     "metadata": {},
     "output_type": "execute_result"
    }
   ],
   "source": [
    "l.count(5)"
   ]
  },
  {
   "cell_type": "code",
   "execution_count": 102,
   "id": "7df79bfa-863a-460f-9220-483dcce3dc3f",
   "metadata": {},
   "outputs": [
    {
     "data": {
      "text/plain": [
       "['rohan', 8, 7, 6, 5, 'negi', 3, 2, 1]"
      ]
     },
     "execution_count": 102,
     "metadata": {},
     "output_type": "execute_result"
    }
   ],
   "source": [
    "l[::-1]"
   ]
  },
  {
   "cell_type": "code",
   "execution_count": 106,
   "id": "1dda00d4-d7cf-43ae-bbc5-122e2f994384",
   "metadata": {},
   "outputs": [
    {
     "data": {
      "text/plain": [
       "[1, 2, 3, 4, 6, 9, 57]"
      ]
     },
     "execution_count": 106,
     "metadata": {},
     "output_type": "execute_result"
    }
   ],
   "source": [
    "l1=[1,3,4,2,57,9,6]\n",
    "l1.sort()\n",
    "l1"
   ]
  },
  {
   "cell_type": "code",
   "execution_count": 110,
   "id": "9be8879e-7d0e-4906-9acf-06beead94fe3",
   "metadata": {},
   "outputs": [
    {
     "data": {
      "text/plain": [
       "[57, 9, 6, 4, 3, 2, 1]"
      ]
     },
     "execution_count": 110,
     "metadata": {},
     "output_type": "execute_result"
    }
   ],
   "source": [
    "l1.sort(reverse=True)\n",
    "l1"
   ]
  },
  {
   "cell_type": "code",
   "execution_count": 128,
   "id": "6250dded-2de2-47f7-a622-626a4b784233",
   "metadata": {},
   "outputs": [
    {
     "data": {
      "text/plain": [
       "[2, 4, 6, 8, 10, 12, 14, 16, 18, 20]"
      ]
     },
     "execution_count": 128,
     "metadata": {},
     "output_type": "execute_result"
    }
   ],
   "source": [
    "x= [j for j in range(1,21) if j%2==0]\n",
    "x"
   ]
  },
  {
   "cell_type": "code",
   "execution_count": 130,
   "id": "100d382a-b578-4600-9490-7400db024dbb",
   "metadata": {},
   "outputs": [
    {
     "data": {
      "text/plain": [
       "[1, 3, 5, 7, 9, 11, 13, 15, 17, 19]"
      ]
     },
     "execution_count": 130,
     "metadata": {},
     "output_type": "execute_result"
    }
   ],
   "source": [
    "y= [i for i in range(1,21) if i%2!=0]\n",
    "y"
   ]
  },
  {
   "cell_type": "code",
   "execution_count": 134,
   "id": "7df9a0a7-7d56-4be5-8d3e-089985381ea5",
   "metadata": {},
   "outputs": [
    {
     "data": {
      "text/plain": [
       "1"
      ]
     },
     "execution_count": 134,
     "metadata": {},
     "output_type": "execute_result"
    }
   ],
   "source": [
    "sum(y)\n",
    "max(y)\n",
    "min(y)"
   ]
  },
  {
   "cell_type": "code",
   "execution_count": 136,
   "id": "02006913-7868-467c-843b-d344986e635a",
   "metadata": {},
   "outputs": [
    {
     "name": "stdout",
     "output_type": "stream",
     "text": [
      "[1, 4, 9, 16, 25, 36, 49, 64, 81, 100]\n"
     ]
    }
   ],
   "source": [
    "l = range(1,11)\n",
    "x=[i**2 for i in l]\n",
    "print(x)"
   ]
  },
  {
   "cell_type": "code",
   "execution_count": null,
   "id": "28aaf480-18b0-4366-8f97-eb6caa4e724d",
   "metadata": {},
   "outputs": [],
   "source": [
    "l2=[]\n",
    "for i in l:\n",
    "    if i not in l2:\n",
    "        l2.append(i)\n",
    "print(l2)"
   ]
  },
  {
   "cell_type": "code",
   "execution_count": 140,
   "id": "b1c35ce3-ba6a-4a96-95b4-b5c1b0ea5f0b",
   "metadata": {},
   "outputs": [
    {
     "name": "stdout",
     "output_type": "stream",
     "text": [
      "[2]\n"
     ]
    }
   ],
   "source": [
    "l1=[2,4,6,8]\n",
    "l2=[1,3,2]\n",
    "l3=[]\n",
    "for i in l1:\n",
    "    for j in l2:\n",
    "        if i==j:\n",
    "            l3.append(i)\n",
    "print(l3)"
   ]
  },
  {
   "cell_type": "code",
   "execution_count": 142,
   "id": "f5a0e5ef-33c8-4fa4-87ae-29a16fe623c1",
   "metadata": {},
   "outputs": [
    {
     "name": "stdout",
     "output_type": "stream",
     "text": [
      "[1, 2, 5, 6]\n"
     ]
    }
   ],
   "source": [
    "list1 = [1, 2, 3, 4]\n",
    "list2 = [3, 4, 5, 6]\n",
    "\n",
    "diff = list(set(list1) ^ set(list2))\n",
    "print(diff) "
   ]
  },
  {
   "cell_type": "code",
   "execution_count": null,
   "id": "4b3f7513-492c-46f3-86e8-0b5e75dd2b9c",
   "metadata": {},
   "outputs": [],
   "source": [
    "l1=[2,4,6,8,1,9]\n",
    "l2=[1,3,5,7,9,11]\n",
    "print(l1+l2) "
   ]
  },
  {
   "cell_type": "code",
   "execution_count": null,
   "id": "d0ab29ef-b183-4662-9695-e5c79010296d",
   "metadata": {},
   "outputs": [],
   "source": [
    "print(l1*2)"
   ]
  },
  {
   "cell_type": "code",
   "execution_count": null,
   "id": "7661c79c-cc64-43b3-9954-aaed3b8dc488",
   "metadata": {},
   "outputs": [],
   "source": [
    "l1=[2,4,6,8,1,9]\n",
    "l2=[]\n",
    "for i in l1:\n",
    "    if i%2==0:\n",
    "        l2.append(i)\n",
    "print(l2)"
   ]
  },
  {
   "cell_type": "code",
   "execution_count": 148,
   "id": "920356f0-fe72-4d7b-9c1f-6c16358001bb",
   "metadata": {},
   "outputs": [
    {
     "name": "stdout",
     "output_type": "stream",
     "text": [
      "[1, 2, 3]\n"
     ]
    }
   ],
   "source": [
    "l1=['1','2','3']\n",
    "l2=[int(i) for i in l1]\n",
    "print(l2)"
   ]
  },
  {
   "cell_type": "code",
   "execution_count": 150,
   "id": "af5c8d59-be37-4890-a623-9e789c69cb43",
   "metadata": {},
   "outputs": [
    {
     "name": "stdout",
     "output_type": "stream",
     "text": [
      "['1', '1', '4', '87']\n"
     ]
    }
   ],
   "source": [
    "l1=[1, 1, 4, 87]\n",
    "l2=[str(i) for i in l1]\n",
    "print(l2)"
   ]
  },
  {
   "cell_type": "code",
   "execution_count": 154,
   "id": "4047b7c6-bea5-4a4c-958b-f190314efa64",
   "metadata": {},
   "outputs": [
    {
     "name": "stdout",
     "output_type": "stream",
     "text": [
      "[1, 2, 3, 4]\n"
     ]
    }
   ],
   "source": [
    "l=[[1,2],[3,4]]\n",
    "l2=[]\n",
    "for i in l:\n",
    "    for j in i:\n",
    "        l2.append(int(j))\n",
    "print(l2)"
   ]
  },
  {
   "cell_type": "code",
   "execution_count": null,
   "id": "abf12796-1861-4a79-8fae-79d786f3461d",
   "metadata": {},
   "outputs": [],
   "source": [
    "l=[]\n",
    "for i in range(11):\n",
    "    if i == 0 or i==1:\n",
    "        l.append(i)\n",
    "    else:\n",
    "        l.append(l[i-1]+l[i-2])\n",
    "print(l)"
   ]
  },
  {
   "cell_type": "code",
   "execution_count": 156,
   "id": "52979fb0-292a-4c6a-a94c-91d33b41b22e",
   "metadata": {},
   "outputs": [
    {
     "name": "stdout",
     "output_type": "stream",
     "text": [
      "not sorted\n"
     ]
    }
   ],
   "source": [
    "l=[2,7,8,0]\n",
    "a=sorted(l)\n",
    "if l == a:\n",
    "    print('sorted')\n",
    "else:\n",
    "    print('not sorted')"
   ]
  },
  {
   "cell_type": "code",
   "execution_count": 158,
   "id": "02e765c4-df87-4163-bb25-bbf211a2d35f",
   "metadata": {},
   "outputs": [
    {
     "data": {
      "text/plain": [
       "[3, 4, 5, 6, 7, 8, 9, 99, 0, 2]"
      ]
     },
     "execution_count": 158,
     "metadata": {},
     "output_type": "execute_result"
    }
   ],
   "source": [
    "l=[0, 2,3,4,5,6,7,8,9,99]\n",
    "k=2\n",
    "l[k:]+l[:k]"
   ]
  },
  {
   "cell_type": "code",
   "execution_count": 162,
   "id": "520ebe0e-2318-4db9-80c2-84f5b4e13f41",
   "metadata": {},
   "outputs": [
    {
     "name": "stdout",
     "output_type": "stream",
     "text": [
      "[2, 3, 5, 7, 11, 13, 17, 19, 23, 25, 49]\n"
     ]
    }
   ],
   "source": [
    "l=[]\n",
    "for i in range(2,50):\n",
    "    count=0\n",
    "    for j in range(2,25):\n",
    "        if i%j==0:\n",
    "            count+=1\n",
    "    if count == 1:\n",
    "        l.append(i)\n",
    "print(l)"
   ]
  },
  {
   "cell_type": "code",
   "execution_count": null,
   "id": "00d2efa8-c9ce-48e4-a9bb-e97d73a9b23a",
   "metadata": {},
   "outputs": [],
   "source": [
    "l=[13, 21, 34, 55, 0, 1, 1, 2, 3, 5, 8,9,0]\n",
    "n=3\n",
    "l1=[]\n",
    "for i in range(0,len(l),n):\n",
    "    l1.append(l[i:i+n])\n",
    "print(l1)"
   ]
  },
  {
   "cell_type": "code",
   "execution_count": null,
   "id": "5ca3d47e-baa7-441d-8ae4-b1a59b0b3918",
   "metadata": {},
   "outputs": [],
   "source": [
    "l=[13, 21, 34, 55, 0, 1, 1, 2, 3, 5, 8,9,0]\n",
    "l.sort(reverse=True)\n",
    "l[1]"
   ]
  },
  {
   "cell_type": "code",
   "execution_count": null,
   "id": "330e592b-b157-406a-8786-252d2c8774b4",
   "metadata": {},
   "outputs": [],
   "source": [
    "l=[13, 21, 34, 55, 0, 1, 1, 2, 3, 5, 8,9,0]\n",
    "l1=[i**2 for i in l]\n",
    "l1"
   ]
  },
  {
   "cell_type": "code",
   "execution_count": 166,
   "id": "28b6a88e-3541-48a5-ab10-55de5822571c",
   "metadata": {},
   "outputs": [
    {
     "name": "stdout",
     "output_type": "stream",
     "text": [
      "{'rohan': 0, 'boy': 1}\n"
     ]
    }
   ],
   "source": [
    "l=['rohan','boy']\n",
    "l2=[l.index(i) for i in l]\n",
    "d=dict(zip(l,l2))\n",
    "print(d)"
   ]
  },
  {
   "cell_type": "code",
   "execution_count": 170,
   "id": "cd659a43-7731-4826-8d8a-8029d77738ed",
   "metadata": {},
   "outputs": [
    {
     "data": {
      "text/plain": [
       "{'boy', 'rohan'}"
      ]
     },
     "execution_count": 170,
     "metadata": {},
     "output_type": "execute_result"
    }
   ],
   "source": [
    "s=set(l)\n",
    "s"
   ]
  },
  {
   "cell_type": "code",
   "execution_count": 172,
   "id": "8a93fc63-8c8a-43ec-82c0-d27c5135dfe8",
   "metadata": {},
   "outputs": [
    {
     "name": "stdout",
     "output_type": "stream",
     "text": [
      "[0, 1, 2, 6, 24, 120, 720, 5040, 40320, 362880, 3628800]\n"
     ]
    }
   ],
   "source": [
    "l=[]\n",
    "n=10\n",
    "for i in range(0,n+1):\n",
    "    if i<=1:\n",
    "        l.append(i)\n",
    "    else:\n",
    "        i=i*(l[i-1])\n",
    "        l.append(i)\n",
    "print(l)"
   ]
  },
  {
   "cell_type": "code",
   "execution_count": 174,
   "id": "585dd7c7-ddb4-47c3-9255-25c5dfc05cbe",
   "metadata": {},
   "outputs": [
    {
     "name": "stdout",
     "output_type": "stream",
     "text": [
      "Lists have at least one element in common.\n"
     ]
    }
   ],
   "source": [
    "list1 = [1, 2, 3]\n",
    "list2 = [4, 5, 3]\n",
    "\n",
    "if set(list1) & set(list2):  \n",
    "    print(\"Lists have at least one element in common.\")\n",
    "else:\n",
    "    print(\"No common elements.\")"
   ]
  },
  {
   "cell_type": "code",
   "execution_count": null,
   "id": "48c61fbf-3cc2-4223-aae3-96ab6927cf4e",
   "metadata": {},
   "outputs": [],
   "source": [
    "l=[1,2,3,4]\n",
    "l.clear()\n",
    "l"
   ]
  },
  {
   "cell_type": "code",
   "execution_count": 178,
   "id": "59009b79-3095-411d-8f60-d1525afd3c5a",
   "metadata": {},
   "outputs": [
    {
     "name": "stdout",
     "output_type": "stream",
     "text": [
      "[1, 2, 3, 0, 0, 56, 6]\n"
     ]
    }
   ],
   "source": [
    "l=[1,2,3,-4,-4,56,6]\n",
    "for i in range(len(l)):\n",
    "    if l[i] < 0:\n",
    "        l[i]=0\n",
    "print(l)"
   ]
  },
  {
   "cell_type": "code",
   "execution_count": null,
   "id": "f6a785ea-e31b-4526-8c3b-8cd4073479d1",
   "metadata": {},
   "outputs": [],
   "source": [
    "s=\"hello\"\n",
    "l=list(s)\n",
    "l"
   ]
  },
  {
   "cell_type": "code",
   "execution_count": null,
   "id": "87207ae6-7853-46da-b14e-951cea5a84b7",
   "metadata": {},
   "outputs": [],
   "source": [
    "l=['h', 'e', 'l', 'l', 'o']\n",
    "s=\"\"\n",
    "for i in l:\n",
    "    s+=i\n",
    "print(s)\n"
   ]
  },
  {
   "cell_type": "code",
   "execution_count": 202,
   "id": "def00bb9-f753-4d91-bab4-817089c299ac",
   "metadata": {},
   "outputs": [
    {
     "data": {
      "text/plain": [
       "'kratos'"
      ]
     },
     "execution_count": 202,
     "metadata": {},
     "output_type": "execute_result"
    }
   ],
   "source": [
    "l=['kratos','devhub','rohan']\n",
    "x= max(l, key=len)\n",
    "x"
   ]
  },
  {
   "cell_type": "code",
   "execution_count": 204,
   "id": "bc39437c-742d-439a-a5f4-37dc5e625e99",
   "metadata": {},
   "outputs": [
    {
     "data": {
      "text/plain": [
       "'rohan'"
      ]
     },
     "execution_count": 204,
     "metadata": {},
     "output_type": "execute_result"
    }
   ],
   "source": [
    "y = min(l,key=len)\n",
    "y"
   ]
  },
  {
   "cell_type": "code",
   "execution_count": 439,
   "id": "a9bd28e0-2453-44aa-9fcb-49a167b529fa",
   "metadata": {},
   "outputs": [
    {
     "name": "stdout",
     "output_type": "stream",
     "text": [
      "[10, 50, 30, 40, 20]\n"
     ]
    }
   ],
   "source": [
    "a = [10, 20, 30, 40, 50]\n",
    "i = 1  \n",
    "j = 4\n",
    "temp = a[i]\n",
    "a[i] = a[j]\n",
    "a[j] = temp\n",
    "print(a)"
   ]
  },
  {
   "cell_type": "code",
   "execution_count": 441,
   "id": "76c4a380-5f99-4992-b1ba-f6e66882fc0c",
   "metadata": {},
   "outputs": [],
   "source": [
    "#tuple\n",
    "# 1. Create a tuple with integers from 1 to 5.\n",
    "# 2. Access the third element of a tuple.\n",
    "# 3. Find the length of a tuple without using the `len()` function.\n",
    "# 4. Count the occurrences of an element in a tuple.\n",
    "# 5. Find the index of the first occurrence of an element in a tuple.\n",
    "# 6. Check if an element exists in a tuple.\n",
    "# 7. Convert a tuple to a list.\n",
    "# 8. Convert a list to a tuple.\n",
    "# 9. Unpack the elements of a tuple into variables.\n",
    "# 10. Create a tuple of even numbers from 1 to 10.\n",
    "# 11. Create a tuple of odd numbers from 1 to 10.\n",
    "# 12. Concatenate two tuples.\n",
    "# 13. Repeat a tuple three times.\n",
    "# 14. Check if a tuple is empty.\n",
    "# 15. Create a nested tuple.\n",
    "# 16. Access the first element of a nested tuple.\n",
    "# 17. Create a tuple with a single element.\n",
    "# 18. Compare two tuples.\n",
    "# 19. Delete a tuple.\n",
    "# 20. Slice a tuple.\n",
    "# 21. Find the maximum value in a tuple.\n",
    "# 22. Find the minimum value in a tuple.\n",
    "# 23. Convert a string to a tuple of characters.\n",
    "# 24. Convert a tuple of characters to a string.\n",
    "# 25. Create a tuple from multiple data types.\n",
    "# 26. Check if two tuples are identical.\n",
    "# 27. Sort the elements of a tuple.\n",
    "# 28. Convert a tuple of integers to a tuple of strings.\n",
    "# 29. Convert a tuple of strings to a tuple of integers.\n",
    "# 30. Merge two tuples.\n",
    "# 31. Flatten a nested tuple.\n",
    "# 32. Create a tuple of the first 5 prime numbers.\n",
    "# 33. Check if a tuple is a palindrome.\n",
    "# 34. Create a tuple of squares of numbers from 1 to 5.\n",
    "# 35. Filter out all even numbers from a tuple.\n",
    "# 36. Multiply all elements in a tuple by 2.\n",
    "# 37. Create a tuple of random numbers.\n",
    "# 38. Check if a tuple is sorted.\n",
    "# 39. Rotate a tuple to the left by `n` positions.\n",
    "# 40. Rotate a tuple to the right by `n` positions.\n",
    "# 41. Create a tuple of the first 5 Fibonacci numbers.\n",
    "# 42. Create a tuple from user input.\n",
    "# 43. Swap two elements in a tuple.\n",
    "# 44. Reverse the elements of a tuple.\n",
    "# 45. Create a tuple of the first `n` powers of 2.\n",
    "# 46. Find the longest string in a tuple of strings.\n",
    "# 47. Find the shortest string in a tuple of strings.\n",
    "# 48. Create a tuple of the first `n` triangular numbers.\n",
    "# 49. Check if a tuple contains another tuple as a subsequence.\n",
    "# 50. Create a tuple of alternating 1s and 0s of length `n`.\n",
    "\n"
   ]
  },
  {
   "cell_type": "code",
   "execution_count": 443,
   "id": "6909ebc5-54c9-4c1c-aad8-68034cff9067",
   "metadata": {},
   "outputs": [
    {
     "name": "stdout",
     "output_type": "stream",
     "text": [
      "(1, 2, 3, 4, 5)\n"
     ]
    }
   ],
   "source": [
    "a = tuple(range(1,6))\n",
    "print(a)"
   ]
  },
  {
   "cell_type": "code",
   "execution_count": 445,
   "id": "68865ac5-567e-4780-863b-cba9dc9e9486",
   "metadata": {},
   "outputs": [
    {
     "data": {
      "text/plain": [
       "3"
      ]
     },
     "execution_count": 445,
     "metadata": {},
     "output_type": "execute_result"
    }
   ],
   "source": [
    "a[2]"
   ]
  },
  {
   "cell_type": "code",
   "execution_count": 446,
   "id": "004b0f4f-ce96-4c69-af36-0691b46f4039",
   "metadata": {},
   "outputs": [
    {
     "name": "stdout",
     "output_type": "stream",
     "text": [
      "5\n"
     ]
    }
   ],
   "source": [
    "count=0\n",
    "\n",
    "for i in a:\n",
    "    count+=1\n",
    "print(count)"
   ]
  },
  {
   "cell_type": "code",
   "execution_count": 447,
   "id": "6cb9005e-7ff8-4520-83f0-a6e62f6041de",
   "metadata": {},
   "outputs": [
    {
     "data": {
      "text/plain": [
       "1"
      ]
     },
     "execution_count": 447,
     "metadata": {},
     "output_type": "execute_result"
    }
   ],
   "source": [
    "a.count(5)"
   ]
  },
  {
   "cell_type": "code",
   "execution_count": 448,
   "id": "eba154c0-06b0-4338-ae60-afc015dd11a8",
   "metadata": {},
   "outputs": [
    {
     "data": {
      "text/plain": [
       "4"
      ]
     },
     "execution_count": 448,
     "metadata": {},
     "output_type": "execute_result"
    }
   ],
   "source": [
    "a.index(5)"
   ]
  },
  {
   "cell_type": "code",
   "execution_count": null,
   "id": "facc35ca-9d09-4b9d-acdb-fa79b321f39f",
   "metadata": {},
   "outputs": [],
   "source": [
    "n= int(input(\"enter the num you want to find: \"))\n",
    "if n in a:\n",
    "    print( \"num present in tuple\")\n",
    "else:\n",
    "    print(\"num not present\")"
   ]
  },
  {
   "cell_type": "code",
   "execution_count": null,
   "id": "58b522a9-5ebc-4827-9e06-5ecb110d126f",
   "metadata": {},
   "outputs": [],
   "source": [
    "list(a)"
   ]
  },
  {
   "cell_type": "code",
   "execution_count": null,
   "id": "da4be690-1190-4fd4-adad-b2e24a12be5e",
   "metadata": {},
   "outputs": [],
   "source": [
    "li = [1,23,45,6,7]\n",
    "tuple(li)"
   ]
  },
  {
   "cell_type": "code",
   "execution_count": null,
   "id": "e9ab4a9c-51c1-42e1-b33f-4aceb8f0bb73",
   "metadata": {},
   "outputs": [],
   "source": [
    "a,b,c,d,e = li\n",
    "a"
   ]
  },
  {
   "cell_type": "code",
   "execution_count": null,
   "id": "63e7ab0a-8399-4ada-a194-c2a24e257b2b",
   "metadata": {},
   "outputs": [],
   "source": [
    "even_numbers = tuple(i for i in range(1, 11) if i % 2 == 0)\n",
    "print(even_numbers)"
   ]
  },
  {
   "cell_type": "code",
   "execution_count": null,
   "id": "8cc004d8-b55e-47cf-a06f-ebba8b78c3a0",
   "metadata": {},
   "outputs": [],
   "source": [
    "even_numbers = tuple(i for i in range(1, 11) if i % 2 != 0)\n",
    "print(even_numbers)"
   ]
  },
  {
   "cell_type": "code",
   "execution_count": null,
   "id": "ca1f46a8-6026-43b9-9907-1cf05a33f6c3",
   "metadata": {},
   "outputs": [],
   "source": [
    "t1 = (1,2,3,4)\n",
    "t2 = (1,2,5,7)\n",
    "t1+t2\n"
   ]
  },
  {
   "cell_type": "code",
   "execution_count": null,
   "id": "72dabc47-de5a-484a-89fe-753fc17a554e",
   "metadata": {},
   "outputs": [],
   "source": [
    "t1*3"
   ]
  },
  {
   "cell_type": "code",
   "execution_count": null,
   "id": "9600e14e-3af4-4ab9-b4c6-38bf13e0df19",
   "metadata": {},
   "outputs": [],
   "source": [
    "if not t1 :\n",
    "    print(\"tuple is empty\")   "
   ]
  },
  {
   "cell_type": "code",
   "execution_count": null,
   "id": "af97b15e-9dbb-467e-9485-e343dbafb2bf",
   "metadata": {},
   "outputs": [],
   "source": [
    "nested_tuple = ((1, 2, 3), ('a', 'b', 'c'), (4, 12423563456))\n",
    "print(nested_tuple)"
   ]
  },
  {
   "cell_type": "code",
   "execution_count": null,
   "id": "839c4519-88fe-4c57-bdf6-e18583d77592",
   "metadata": {},
   "outputs": [],
   "source": [
    "first_value = nested_tuple[0][0]\n",
    "print(first_value)"
   ]
  },
  {
   "cell_type": "code",
   "execution_count": null,
   "id": "a1696c15-4aa0-4938-a101-4155b1ab2d4f",
   "metadata": {},
   "outputs": [],
   "source": [
    "single = (5)\n",
    "print(single)"
   ]
  },
  {
   "cell_type": "code",
   "execution_count": null,
   "id": "ec6b60b7-80a3-4bfc-8d49-41d3bfbc16ff",
   "metadata": {},
   "outputs": [],
   "source": [
    "t1 = (1,23,45,6)\n",
    "t2 = (12,4,45,6)\n",
    "t1==t2"
   ]
  },
  {
   "cell_type": "code",
   "execution_count": null,
   "id": "22479494-aa0e-4f28-ab71-673e4285e293",
   "metadata": {},
   "outputs": [],
   "source": [
    "my_tuple = (1, 2, 3)\n",
    "del my_tuple"
   ]
  },
  {
   "cell_type": "code",
   "execution_count": null,
   "id": "0b0ffb7c-242d-495d-bad7-225f1ff204b5",
   "metadata": {},
   "outputs": [],
   "source": [
    "my_tuple = (10, 20, 30, 40, 50)\n",
    "sliced_tuple = my_tuple[1:4]  \n",
    "print(sliced_tuple)"
   ]
  },
  {
   "cell_type": "code",
   "execution_count": null,
   "id": "07e11e0d-d3f2-4f3b-9567-267c220b4180",
   "metadata": {},
   "outputs": [],
   "source": [
    "sliced_tuple = my_tuple[-3:-1]  \n",
    "print(sliced_tuple) "
   ]
  },
  {
   "cell_type": "code",
   "execution_count": null,
   "id": "24e12453-fdf5-41fc-9ac1-82b6d14886c1",
   "metadata": {},
   "outputs": [],
   "source": [
    "my_tuple = (10, 20, 30, 40, 50)\n",
    "max_value = max(my_tuple)\n",
    "print(max_value)"
   ]
  },
  {
   "cell_type": "code",
   "execution_count": null,
   "id": "f3c832f5-1a33-47c3-b67d-bc543b8ca33b",
   "metadata": {},
   "outputs": [],
   "source": [
    "my_tuple = (10, 20, 30, 40, 50)\n",
    "min_value = min(my_tuple)\n",
    "print(min_value)"
   ]
  },
  {
   "cell_type": "code",
   "execution_count": null,
   "id": "f379e5b1-f451-4152-804f-21da22cbc7c2",
   "metadata": {},
   "outputs": [],
   "source": [
    "my_string = \"hello\"\n",
    "my_tuple = tuple(my_string)\n",
    "print(my_tuple)"
   ]
  },
  {
   "cell_type": "code",
   "execution_count": null,
   "id": "3c797149-8870-4722-bdd1-d6a4d8e94414",
   "metadata": {},
   "outputs": [],
   "source": [
    "my_tuple = ('h', 'e', 'l', 'l', 'o')\n",
    "my_string = ''.join(my_tuple)\n",
    "print(my_string)"
   ]
  },
  {
   "cell_type": "code",
   "execution_count": null,
   "id": "e54d9904-1962-4253-b7ff-5b52b8677d95",
   "metadata": {},
   "outputs": [],
   "source": [
    "my_tuple = (1, \"a\", 1.3445, True)\n",
    "print(my_tuple)"
   ]
  },
  {
   "cell_type": "code",
   "execution_count": null,
   "id": "95542c8a-0d75-46f6-8405-41560245afc2",
   "metadata": {},
   "outputs": [],
   "source": [
    "tuple1 = (1, 2, 3)\n",
    "tuple2 = (1, 2, 3)\n",
    "\n",
    "print(tuple1 == tuple2)  "
   ]
  },
  {
   "cell_type": "code",
   "execution_count": null,
   "id": "dbdab9f6-f83d-4aae-b60e-b39708852544",
   "metadata": {},
   "outputs": [],
   "source": [
    "my_tuple = (30, 10, 20)\n",
    "sorted_tuple = tuple(sorted(my_tuple))\n",
    "print(sorted_tuple)"
   ]
  },
  {
   "cell_type": "code",
   "execution_count": null,
   "id": "fe46926d-58af-404d-ba40-e39681536a4f",
   "metadata": {},
   "outputs": [],
   "source": [
    "my_tuple = (1, 2, 3, 4)\n",
    "string_tuple = tuple(str(i) for i in my_tuple)\n",
    "print(string_tuple)"
   ]
  },
  {
   "cell_type": "code",
   "execution_count": null,
   "id": "5d171d3d-1a11-42cf-863f-8e469e08cef6",
   "metadata": {},
   "outputs": [],
   "source": [
    "my_tuple = ('1', '2', '3', '4')\n",
    "int_tuple = tuple(int(i) for i in my_tuple)\n",
    "print(int_tuple)"
   ]
  },
  {
   "cell_type": "code",
   "execution_count": null,
   "id": "5352a6e8-33da-4d5e-975a-72e0f9d21e88",
   "metadata": {},
   "outputs": [],
   "source": [
    "tuple1 = (1, 2, 3)\n",
    "tuple2 = (1, 5, 6)\n",
    "merged_tuple = tuple1 + tuple2\n",
    "print(merged_tuple) "
   ]
  },
  {
   "cell_type": "code",
   "execution_count": null,
   "id": "8f5427eb-5c68-4881-8780-196c5a0b92f5",
   "metadata": {},
   "outputs": [],
   "source": [
    "a = ((1, 2), (3, 4))\n",
    "\n",
    "b = ()\n",
    "for c in a:\n",
    "    if isinstance(c, tuple):\n",
    "        for d in c:\n",
    "            if isinstance(d, tuple):\n",
    "                for e in d:\n",
    "                    b += (e,)\n",
    "            else:\n",
    "                b += (d,)\n",
    "    else:\n",
    "        b += (c,)\n",
    "\n",
    "print(b)"
   ]
  },
  {
   "cell_type": "code",
   "execution_count": null,
   "id": "773829eb-bcf4-4c7f-9133-015a16017088",
   "metadata": {},
   "outputs": [],
   "source": [
    "prime_tuple = (2, 3, 5, 7, 11)\n",
    "print(prime_tuple)"
   ]
  },
  {
   "cell_type": "code",
   "execution_count": null,
   "id": "e054ee7a-c216-424c-9566-5692d8b9584a",
   "metadata": {},
   "outputs": [],
   "source": [
    "my_tuple = (1, 2, 3, 2, 1)\n",
    "my_tuple == my_tuple[::-1]\n"
   ]
  },
  {
   "cell_type": "code",
   "execution_count": null,
   "id": "e234b2f9-ef53-4ba2-b6c6-34f98a2053d8",
   "metadata": {},
   "outputs": [],
   "source": [
    "numbers = (1, 2, 3, 4, 5)\n",
    "squares_tuple = ()\n",
    "for i in numbers:\n",
    "    squares_tuple += (i ** 2,)\n",
    "print(squares_tuple)"
   ]
  },
  {
   "cell_type": "code",
   "execution_count": null,
   "id": "022363a9-4679-4173-9d1c-994d6e0adc1e",
   "metadata": {},
   "outputs": [],
   "source": [
    "my_tuple = (1, 2, 3, 4, 5, 6)\n",
    "odd_tuple = ()\n",
    "for i in my_tuple:\n",
    "    if i % 2 != 0:\n",
    "        odd_tuple += (i,)\n",
    "print(odd_tuple) "
   ]
  },
  {
   "cell_type": "code",
   "execution_count": null,
   "id": "ec65785e-032a-4c65-83e2-b5d93bc2eb72",
   "metadata": {},
   "outputs": [],
   "source": [
    "my_tuple = (1, 2, 3, 4)\n",
    "multiplied_tuple = ()\n",
    "for i in my_tuple:\n",
    "    multiplied_tuple += (i * 2,)\n",
    "print(multiplied_tuple) "
   ]
  },
  {
   "cell_type": "code",
   "execution_count": null,
   "id": "2828bba2-7cd0-4bea-891e-184746259e65",
   "metadata": {},
   "outputs": [],
   "source": [
    "import random\n",
    "random_tuple = ()\n",
    "for _ in range(5):\n",
    "    random_tuple += (random.randint(1, 10),)\n",
    "print(random_tuple)"
   ]
  },
  {
   "cell_type": "code",
   "execution_count": null,
   "id": "99c45c49-56dc-45d3-bba9-359bcbd7b23f",
   "metadata": {},
   "outputs": [],
   "source": [
    "my_tuple = (1, 2, 3, 4, 5)\n",
    "is_sorted = my_tuple == tuple(sorted(my_tuple))\n",
    "print(is_sorted)"
   ]
  },
  {
   "cell_type": "code",
   "execution_count": null,
   "id": "012b915b-26c7-4af4-8e63-940c602709d8",
   "metadata": {},
   "outputs": [],
   "source": [
    "my_tuple = (1, 2, 3, 4, 5)\n",
    "n = 2\n",
    "rotated_tuple = my_tuple[n:] + my_tuple[:n]\n",
    "print(rotated_tuple)"
   ]
  },
  {
   "cell_type": "code",
   "execution_count": null,
   "id": "70e10d56-a4be-47a0-96ae-6747167e2c7f",
   "metadata": {},
   "outputs": [],
   "source": [
    "my_tuple = (1, 2, 3, 4, 5)\n",
    "n = 2\n",
    "rotated_tuple = my_tuple[-n:] + my_tuple[:-n]\n",
    "print(rotated_tuple)"
   ]
  },
  {
   "cell_type": "code",
   "execution_count": null,
   "id": "bc73cb03-e191-425e-a1fa-05952eb18a5b",
   "metadata": {},
   "outputs": [],
   "source": [
    "fibonacci_tuple = (0, 1, 1, 2, 3)\n",
    "print(fibonacci_tuple)"
   ]
  },
  {
   "cell_type": "code",
   "execution_count": null,
   "id": "2eb1d62b-ab6b-440d-9221-43b1c1e3a2f7",
   "metadata": {},
   "outputs": [],
   "source": [
    "a = input(\"Enter values separated by space: \")\n",
    "i = tuple(a.split())\n",
    "print(i)"
   ]
  },
  {
   "cell_type": "code",
   "execution_count": null,
   "id": "5704b834-4712-4786-b7f3-cc1f4fddee6b",
   "metadata": {},
   "outputs": [],
   "source": [
    "a = (1, 2, 3, 4, 5)\n",
    "x, y = 1, 3\n",
    "\n",
    "b = list(a)\n",
    "b[x], b[y] = b[y], b[x]\n",
    "c = tuple(b)\n",
    "print(c) "
   ]
  },
  {
   "cell_type": "code",
   "execution_count": null,
   "id": "807954db-92e9-4c37-ab6b-f021e2a097e6",
   "metadata": {},
   "outputs": [],
   "source": [
    "a = (1, 2, 3, 4, 5)\n",
    "b = a[::-1]\n",
    "print(b) "
   ]
  },
  {
   "cell_type": "code",
   "execution_count": null,
   "id": "34391ad1-86a0-4257-91cd-50fea0c75489",
   "metadata": {},
   "outputs": [],
   "source": [
    "n = 5\n",
    "a = tuple(2**i for i in range(n))\n",
    "print(a)"
   ]
  },
  {
   "cell_type": "code",
   "execution_count": null,
   "id": "c45f72b0-b358-4e34-9b04-db929e7353e1",
   "metadata": {},
   "outputs": [],
   "source": [
    "a = (\"rohan\", \"yash\", \"punni\", \"rishabh\")\n",
    "b = max(a, key=len)\n",
    "print(b) "
   ]
  },
  {
   "cell_type": "code",
   "execution_count": null,
   "id": "71f48d88-1630-406c-b04a-d175a0234b37",
   "metadata": {},
   "outputs": [],
   "source": [
    "a = (\"rohan\", \"yash\", \"punni\", \"rishu\",\"pajji\")\n",
    "b = min(a, key=len)\n",
    "print(b)  "
   ]
  },
  {
   "cell_type": "code",
   "execution_count": null,
   "id": "261f3e7b-260e-4ee6-bb07-4baa540e1f52",
   "metadata": {},
   "outputs": [],
   "source": [
    "n = 5\n",
    "a = tuple((i * (i + 1)) // 2 for i in range(1, n + 1))\n",
    "print(a) "
   ]
  },
  {
   "cell_type": "code",
   "execution_count": null,
   "id": "8e25a584-5aa0-46cb-a670-f0b6317231bf",
   "metadata": {},
   "outputs": [],
   "source": [
    "a = (1, 2, 3, 4, 5)\n",
    "b = (2, 3)\n",
    "\n",
    "c = all(x in a for x in b)\n",
    "print(c) "
   ]
  },
  {
   "cell_type": "code",
   "execution_count": null,
   "id": "3e72d2bc-ac6b-4270-84bc-3d92e684185c",
   "metadata": {},
   "outputs": [],
   "source": [
    "n = 6\n",
    "a = tuple(1 if i % 2 == 0 else 0 for i in range(n))\n",
    "print(a) "
   ]
  },
  {
   "cell_type": "code",
   "execution_count": null,
   "id": "b6937462-2ed0-4de7-8b0e-296b891dce17",
   "metadata": {},
   "outputs": [],
   "source": [
    "#set\n",
    "# 1. Create a set with integers from 1 to 5.\n",
    "# 2. Add an element to a set.\n",
    "# 3. Remove an element from a set.\n",
    "# 4. Check if an element exists in a set.\n",
    "# 5. Find the length of a set without using the `len()` function.\n",
    "# 6. Clear all elements from a set.\n",
    "# 7. Create a set of even numbers from 1 to 10.\n",
    "# 8. Create a set of odd numbers from 1 to 10.\n",
    "# 9. Find the union of two sets.\n",
    "# 10. Find the intersection of two sets.\n",
    "# 11. Find the difference between two sets.\n",
    "# 12. Check if a set is a subset of another set.\n",
    "# 13. Check if a set is a superset of another set.\n",
    "# 14. Create a set from a list.\n",
    "# 15. Convert a set to a list.\n",
    "# 16. Remove a random element from a set.\n",
    "# 17. Pop an element from a set.\n",
    "# 18. Check if two sets have no elements in common.\n",
    "# 19. Find the symmetric difference between two sets.\n",
    "# 20. Update a set with elements from another set.\n",
    "# 21. Create a set of the first 5 prime numbers.\n",
    "# 22. Check if two sets are identical.\n",
    "# 23. Create a frozen set.\n",
    "# 24. Check if a set is disjoint with another set.\n",
    "# 25. Create a set of squares of numbers from 1 to 5.\n",
    "# 26. Filter out all even numbers from a set.\n",
    "# 27. Multiply all elements in a set by 2.\n",
    "# 28. Create a set of random numbers.\n",
    "# 29. Check if a set is empty.\n",
    "# 30. Create a nested set (hint: use frozenset).\n",
    "# 31. Remove an element from a set using the discard method.\n",
    "# 32. Compare two sets.\n",
    "# 33. Create a set from a string.\n",
    "# 34. Convert a set of strings to a set of integers.\n",
    "# 35. Convert a set of integers to a set of strings.\n",
    "# 36. Create a set from a tuple.\n",
    "# 37. Convert a set to a tuple.\n",
    "# 38. Find the maximum value in a set.\n",
    "# 39. Find the minimum value in a set.\n",
    "# 40. Create a set from user input.\n",
    "# 41. Check if the intersection of two sets is empty.\n",
    "# 42. Create a set of the first 5 Fibonacci numbers.\n",
    "# 43. Remove duplicates from a list using sets.\n",
    "# 44. Check if two sets have the same elements, regardless of their count.\n",
    "# 45. Create a set of the first `n` powers of 2.\n",
    "# 46. Find the common elements between a set and a list.\n",
    "# 47. Create a set of the first `n` triangular numbers.\n",
    "# 48. Check if a set contains another set as a subset.\n",
    "# 49. Create a set of alternating 1s and 0s of length `n`.\n",
    "# 50. Merge multiple sets into one.\n"
   ]
  },
  {
   "cell_type": "code",
   "execution_count": null,
   "id": "3b88f6e7-1529-4425-b85c-5c280643cf4f",
   "metadata": {},
   "outputs": [],
   "source": [
    "a = {1,2,3,4,5}\n",
    "type(a)"
   ]
  },
  {
   "cell_type": "code",
   "execution_count": null,
   "id": "614997e6-d33d-4a4a-bdaf-5bfc590840f4",
   "metadata": {},
   "outputs": [],
   "source": [
    "a = {1, 2, 3, 4, 5}\n",
    "a.add(6)\n",
    "print(a) "
   ]
  },
  {
   "cell_type": "code",
   "execution_count": null,
   "id": "7dd65489-15bc-48fa-8093-f5722e315469",
   "metadata": {},
   "outputs": [],
   "source": [
    "a = {1, 2, 3, 4, 5}\n",
    "a.remove(3)\n",
    "print(a) "
   ]
  },
  {
   "cell_type": "code",
   "execution_count": null,
   "id": "0e369e10-ffba-4724-a8e6-4c8092d24049",
   "metadata": {},
   "outputs": [],
   "source": [
    "a = {1, 2, 3, 4, 5}\n",
    "b = 1\n",
    "print(b in a)"
   ]
  },
  {
   "cell_type": "code",
   "execution_count": null,
   "id": "c5373f4b-95f4-4bfd-a88a-cf22fe7df00b",
   "metadata": {},
   "outputs": [],
   "source": [
    "a = {1, 2, 3, 4, 5}\n",
    "b = sum(1 for i in a)\n",
    "print(b) "
   ]
  },
  {
   "cell_type": "code",
   "execution_count": null,
   "id": "90aeecc8-3b0b-4c5b-ac19-caf5b86a9c65",
   "metadata": {},
   "outputs": [],
   "source": [
    "a = {1, 2, 3, 4, 5}\n",
    "a.clear()\n",
    "print(a) "
   ]
  },
  {
   "cell_type": "code",
   "execution_count": null,
   "id": "06cc9392-5003-470a-8a31-3bef70565217",
   "metadata": {},
   "outputs": [],
   "source": [
    "a = {2, 4, 6, 8, 10}\n",
    "print(a)"
   ]
  },
  {
   "cell_type": "code",
   "execution_count": null,
   "id": "64a7adf3-aa59-40cd-b9bc-7b7ea7d6eec5",
   "metadata": {},
   "outputs": [],
   "source": [
    "a = {1, 3, 5, 7, 9}\n",
    "print(a)"
   ]
  },
  {
   "cell_type": "code",
   "execution_count": null,
   "id": "2a856eca-50e4-4675-abdc-528c479a9cd2",
   "metadata": {},
   "outputs": [],
   "source": [
    "a = {1, 2, 3}\n",
    "b = {3, 4, 5}\n",
    "c = a | b\n",
    "print(c)"
   ]
  },
  {
   "cell_type": "code",
   "execution_count": null,
   "id": "8cb38ca6-03ab-4222-8f61-aec9e85d1851",
   "metadata": {},
   "outputs": [],
   "source": [
    "a = {1, 2, 3}\n",
    "b = {3, 4, 5}\n",
    "c = a & b\n",
    "print(c) "
   ]
  },
  {
   "cell_type": "code",
   "execution_count": null,
   "id": "182fce8e-9422-4c6e-93e8-2ad465502a50",
   "metadata": {},
   "outputs": [],
   "source": [
    "a = {1, 2, 3}\n",
    "b = {3, 4, 5}\n",
    "c = a - b\n",
    "print(c) "
   ]
  },
  {
   "cell_type": "code",
   "execution_count": null,
   "id": "61e94b76-6a9e-4ba1-a6b6-3d7497c87fcf",
   "metadata": {},
   "outputs": [],
   "source": [
    "a = {1, 2, 3}\n",
    "b = {1, 2, 3, 4, 5}\n",
    "c = a.issubset(b)\n",
    "print(c)"
   ]
  },
  {
   "cell_type": "code",
   "execution_count": null,
   "id": "8012ca5d-fa75-44b7-af18-eab816e0f2e1",
   "metadata": {},
   "outputs": [],
   "source": [
    "a = {1, 2, 3, 4, 5}\n",
    "b = {1, 2, 3}\n",
    "c = a.issuperset(b)\n",
    "print(c)"
   ]
  },
  {
   "cell_type": "code",
   "execution_count": null,
   "id": "95099acf-6be5-4e99-9cc7-a2355e284594",
   "metadata": {},
   "outputs": [],
   "source": [
    "a = [1, 2, 3, 4, 5]\n",
    "b = set(a)\n",
    "print(b)"
   ]
  },
  {
   "cell_type": "code",
   "execution_count": null,
   "id": "b0b1c721-8eeb-469b-addd-09a013b29956",
   "metadata": {},
   "outputs": [],
   "source": [
    "a = {1, 2, 3, 4, 5}\n",
    "b = list(a)\n",
    "print(b)"
   ]
  },
  {
   "cell_type": "code",
   "execution_count": null,
   "id": "08abb5ee-31bf-4601-b1c2-774d2346479b",
   "metadata": {},
   "outputs": [],
   "source": [
    "a = {1, 2, 3, 4, 5}\n",
    "b = a.pop()\n",
    "print(b)"
   ]
  },
  {
   "cell_type": "code",
   "execution_count": null,
   "id": "1edb7503-2b8e-4b34-9fde-3431ece89ae5",
   "metadata": {},
   "outputs": [],
   "source": [
    "a = {1, 2, 3, 4, 5}\n",
    "b = a.pop()\n",
    "print(b)"
   ]
  },
  {
   "cell_type": "code",
   "execution_count": null,
   "id": "be6adece-92bc-4ea1-ab03-9b7d7509aa8c",
   "metadata": {},
   "outputs": [],
   "source": [
    "a = {1, 2, 3}\n",
    "b = {4, 5, 6}\n",
    "c = a.isdisjoint(b)\n",
    "print(c)"
   ]
  },
  {
   "cell_type": "code",
   "execution_count": null,
   "id": "61c9a003-63d9-4bad-8918-3e9725c15981",
   "metadata": {},
   "outputs": [],
   "source": [
    "a = {1, 2, 3}\n",
    "b = {3, 4, 5}\n",
    "c = a ^ b\n",
    "print(c)"
   ]
  },
  {
   "cell_type": "code",
   "execution_count": null,
   "id": "6e4b9e1a-bf7f-41fd-9caa-0cb7b7b014e6",
   "metadata": {},
   "outputs": [],
   "source": [
    "a = {1, 2, 3}\n",
    "b = {3, 4, 5}\n",
    "a.update(b)\n",
    "print(a)"
   ]
  },
  {
   "cell_type": "code",
   "execution_count": null,
   "id": "4fa309e9-46d4-4bfa-b7ec-3aedb5a4c4f7",
   "metadata": {},
   "outputs": [],
   "source": [
    "a = {2, 3, 5, 7, 11}\n",
    "print(a)"
   ]
  },
  {
   "cell_type": "code",
   "execution_count": null,
   "id": "094cd02e-4966-4c57-aa03-0c2dfc648d22",
   "metadata": {},
   "outputs": [],
   "source": [
    "a = {1, 2, 3}\n",
    "b = {1, 2, 3}\n",
    "c = a == b\n",
    "print(c)"
   ]
  },
  {
   "cell_type": "code",
   "execution_count": null,
   "id": "1729945d-f434-4fd5-85c5-18a08f287571",
   "metadata": {},
   "outputs": [],
   "source": [
    "a = frozenset([1, 2, 3, 4, 5])\n",
    "print(a)"
   ]
  },
  {
   "cell_type": "code",
   "execution_count": null,
   "id": "1870d862-7b05-46ec-bd7a-4f9c08789bbe",
   "metadata": {},
   "outputs": [],
   "source": [
    "a = {1, 2, 3}\n",
    "b = {4, 5, 6}\n",
    "c = a.isdisjoint(b)\n",
    "print(c)"
   ]
  },
  {
   "cell_type": "code",
   "execution_count": null,
   "id": "ed17557c-1b90-47c6-9a41-0b8da474f83c",
   "metadata": {},
   "outputs": [],
   "source": [
    "a = {1, 4, 9, 16, 25}\n",
    "print(a)"
   ]
  },
  {
   "cell_type": "code",
   "execution_count": null,
   "id": "90706a27-8c1f-4e5f-9c58-9fa4d57a03f6",
   "metadata": {},
   "outputs": [],
   "source": [
    "a = {1, 2, 3, 4, 5, 6}\n",
    "b = {x for x in a if x % 2 != 0}\n",
    "print(b) "
   ]
  },
  {
   "cell_type": "code",
   "execution_count": null,
   "id": "81bfbc7f-b6cd-4b95-9b71-91102319fac2",
   "metadata": {},
   "outputs": [],
   "source": [
    "a = {1, 2, 3, 4, 5}\n",
    "b = {x * 2 for x in a}\n",
    "print(b)"
   ]
  },
  {
   "cell_type": "code",
   "execution_count": null,
   "id": "f7c671a0-3682-49e1-aa80-a5280a2848f4",
   "metadata": {},
   "outputs": [],
   "source": [
    "import random\n",
    "a = {random.randint(1, 10) for _ in range(5)}\n",
    "print(a) "
   ]
  },
  {
   "cell_type": "code",
   "execution_count": null,
   "id": "22277780-7283-4a70-82f3-61647da35ef9",
   "metadata": {},
   "outputs": [],
   "source": [
    "a = set()\n",
    "print(not a)"
   ]
  },
  {
   "cell_type": "code",
   "execution_count": null,
   "id": "f7003817-5723-4d0e-87b6-6cc51d7704b5",
   "metadata": {},
   "outputs": [],
   "source": [
    "a = frozenset({1, 2, 3})\n",
    "b = frozenset({4, 5, 6})\n",
    "c = {a, b}\n",
    "print(c) "
   ]
  },
  {
   "cell_type": "code",
   "execution_count": null,
   "id": "7053c473-b046-46a1-9aaf-6d4672c3ff2b",
   "metadata": {},
   "outputs": [],
   "source": [
    "s = {1, 2, 3}\n",
    "s.discard(2)\n",
    "print(s)"
   ]
  },
  {
   "cell_type": "code",
   "execution_count": null,
   "id": "c747e916-05fc-44b3-9a80-e407c1646040",
   "metadata": {},
   "outputs": [],
   "source": [
    "a = {1, 2, 3}\n",
    "b = {3, 2, 1}\n",
    "f = True\n",
    "for i in a:\n",
    "    if i not in b:\n",
    "        f = False\n",
    "for i in b:\n",
    "    if i not in a:\n",
    "        f = False\n",
    "print(f)"
   ]
  },
  {
   "cell_type": "code",
   "execution_count": null,
   "id": "f96e02cf-098f-4a97-b8e6-6d8b8a97303b",
   "metadata": {},
   "outputs": [],
   "source": [
    "s = \"hello\"\n",
    "a = set()\n",
    "for i in s:\n",
    "    a.add(i)\n",
    "print(a)"
   ]
  },
  {
   "cell_type": "code",
   "execution_count": null,
   "id": "17bfe08d-b7df-4e39-8d8a-22ff70aa4f75",
   "metadata": {},
   "outputs": [],
   "source": [
    "s = {\"1\", \"2\", \"3\"}\n",
    "a = set()\n",
    "for i in s:\n",
    "    a.add(int(i))\n",
    "print(a)"
   ]
  },
  {
   "cell_type": "code",
   "execution_count": null,
   "id": "854cbdb2-1c96-4c67-ad17-cb9ffe8d04a7",
   "metadata": {},
   "outputs": [],
   "source": [
    "s = {\"1\", \"2\", \"3\"}\n",
    "a = set()\n",
    "for i in s:\n",
    "    a.add(int(i))\n",
    "print(a)"
   ]
  },
  {
   "cell_type": "code",
   "execution_count": null,
   "id": "e891ff7e-9217-44e5-bb73-f5f767e8560f",
   "metadata": {},
   "outputs": [],
   "source": [
    "s = {1, 2, 3}\n",
    "a = set()\n",
    "for i in s:\n",
    "    a.add(str(i))\n",
    "print(a)"
   ]
  },
  {
   "cell_type": "code",
   "execution_count": null,
   "id": "04837da5-5e30-4260-a3ba-e50e229b5e3a",
   "metadata": {},
   "outputs": [],
   "source": [
    "t = (1, 2, 3)\n",
    "s = set()\n",
    "for i in t:\n",
    "    s.add(i)\n",
    "print(s)"
   ]
  },
  {
   "cell_type": "code",
   "execution_count": 411,
   "id": "bce056ca-c166-4816-ad65-e2f777ecd256",
   "metadata": {},
   "outputs": [
    {
     "name": "stdout",
     "output_type": "stream",
     "text": [
      "(1, 2, 3)\n"
     ]
    }
   ],
   "source": [
    "s = {1, 2, 3}\n",
    "t = ()\n",
    "for i in s:\n",
    "    t += (i,)\n",
    "print(t)"
   ]
  },
  {
   "cell_type": "code",
   "execution_count": 413,
   "id": "53a45e1d-4734-44e9-9c46-b54e76b8139f",
   "metadata": {},
   "outputs": [
    {
     "name": "stdout",
     "output_type": "stream",
     "text": [
      "7\n"
     ]
    }
   ],
   "source": [
    "s = {3, 7, 2}\n",
    "for i in s:\n",
    "    m = i\n",
    "    break\n",
    "for i in s:\n",
    "    if i > m:\n",
    "        m = i\n",
    "print(m)"
   ]
  },
  {
   "cell_type": "code",
   "execution_count": 415,
   "id": "758f7678-48ee-48bc-a441-8a040885ae45",
   "metadata": {},
   "outputs": [
    {
     "name": "stdout",
     "output_type": "stream",
     "text": [
      "True\n"
     ]
    }
   ],
   "source": [
    "a = {1, 2}\n",
    "b = {3, 4}\n",
    "f = True\n",
    "for i in a:\n",
    "    if i in b:\n",
    "        f = False\n",
    "print(f)"
   ]
  },
  {
   "cell_type": "code",
   "execution_count": 417,
   "id": "bec11a47-c7f2-4bcc-b9c4-dbe4cfdac913",
   "metadata": {},
   "outputs": [
    {
     "name": "stdout",
     "output_type": "stream",
     "text": [
      "{0, 1, 2, 3}\n"
     ]
    }
   ],
   "source": [
    "a, b, s, c = 0, 1, set(), 0\n",
    "while c < 5:\n",
    "    s.add(a)\n",
    "    a, b = b, a + b\n",
    "    c += 1\n",
    "print(s)"
   ]
  },
  {
   "cell_type": "code",
   "execution_count": 419,
   "id": "3ba66649-6b4a-41dd-b945-bce35ad22a35",
   "metadata": {},
   "outputs": [
    {
     "name": "stdout",
     "output_type": "stream",
     "text": [
      "{1, 2, 3}\n"
     ]
    }
   ],
   "source": [
    "l = [1, 2, 2, 3, 1]\n",
    "s = set()\n",
    "for i in l:\n",
    "    s.add(i)\n",
    "print(s)"
   ]
  },
  {
   "cell_type": "code",
   "execution_count": 421,
   "id": "d1f7c9cd-d9d7-483d-af21-7c7915258d13",
   "metadata": {},
   "outputs": [
    {
     "name": "stdout",
     "output_type": "stream",
     "text": [
      "True\n"
     ]
    }
   ],
   "source": [
    "a = {1, 2}\n",
    "b = {2, 1}\n",
    "f = True\n",
    "for i in a:\n",
    "    if i not in b:\n",
    "        f = False\n",
    "for i in b:\n",
    "    if i not in a:\n",
    "        f = False\n",
    "print(f)"
   ]
  },
  {
   "cell_type": "code",
   "execution_count": 423,
   "id": "7ad1f56c-477e-4bca-824f-b74773858e38",
   "metadata": {},
   "outputs": [
    {
     "name": "stdout",
     "output_type": "stream",
     "text": [
      "{1, 2, 4, 8, 16}\n"
     ]
    }
   ],
   "source": [
    "n = 5\n",
    "s = set()\n",
    "p = 1\n",
    "for i in range(n):\n",
    "    s.add(p)\n",
    "    p = p * 2\n",
    "print(s)"
   ]
  },
  {
   "cell_type": "code",
   "execution_count": 425,
   "id": "1b85d207-d889-4466-a76e-27aef2a4932a",
   "metadata": {},
   "outputs": [
    {
     "name": "stdout",
     "output_type": "stream",
     "text": [
      "{2, 3}\n"
     ]
    }
   ],
   "source": [
    "s = {1, 2, 3}\n",
    "l = [2, 3, 4]\n",
    "c = set()\n",
    "for i in l:\n",
    "    if i in s:\n",
    "        c.add(i)\n",
    "print(c)"
   ]
  },
  {
   "cell_type": "code",
   "execution_count": 427,
   "id": "d4a20170-196c-4602-9aa6-01d981e07114",
   "metadata": {},
   "outputs": [
    {
     "name": "stdout",
     "output_type": "stream",
     "text": [
      "{1, 3, 6, 10, 15}\n"
     ]
    }
   ],
   "source": [
    "n = 5\n",
    "s = set()\n",
    "x = 1\n",
    "for i in range(1, n + 1):\n",
    "    x = i * (i + 1) // 2\n",
    "    s.add(x)\n",
    "print(s)"
   ]
  },
  {
   "cell_type": "code",
   "execution_count": 429,
   "id": "3684a225-b33b-495f-84ca-c8ecc9bbf4c0",
   "metadata": {},
   "outputs": [
    {
     "name": "stdout",
     "output_type": "stream",
     "text": [
      "True\n"
     ]
    }
   ],
   "source": [
    "a = {1, 2, 3, 4}\n",
    "b = {2, 3}\n",
    "f = True\n",
    "for i in b:\n",
    "    if i not in a:\n",
    "        f = False\n",
    "print(f)\n"
   ]
  },
  {
   "cell_type": "code",
   "execution_count": 431,
   "id": "6d033b8f-1617-4972-b36a-566617d27cdf",
   "metadata": {},
   "outputs": [
    {
     "name": "stdout",
     "output_type": "stream",
     "text": [
      "{0, 1}\n"
     ]
    }
   ],
   "source": [
    "n = 6\n",
    "s = set()\n",
    "for i in range(n):\n",
    "    if i % 2 == 0:\n",
    "        s.add(1)\n",
    "    else:\n",
    "        s.add(0)\n",
    "print(s)"
   ]
  },
  {
   "cell_type": "code",
   "execution_count": 433,
   "id": "aec9d776-71f4-4eac-a6d1-068a008f0284",
   "metadata": {},
   "outputs": [
    {
     "name": "stdout",
     "output_type": "stream",
     "text": [
      "{1, 2, 3, 4, 5}\n"
     ]
    }
   ],
   "source": [
    "a = {1, 2}\n",
    "b = {3, 4}\n",
    "c = {2, 5}\n",
    "d = set()\n",
    "for i in a:\n",
    "    d.add(i)\n",
    "for i in b:\n",
    "    d.add(i)\n",
    "for i in c:\n",
    "    d.add(i)\n",
    "print(d)"
   ]
  }
 ],
 "metadata": {
  "kernelspec": {
   "display_name": "Python [conda env:base] *",
   "language": "python",
   "name": "conda-base-py"
  },
  "language_info": {
   "codemirror_mode": {
    "name": "ipython",
    "version": 3
   },
   "file_extension": ".py",
   "mimetype": "text/x-python",
   "name": "python",
   "nbconvert_exporter": "python",
   "pygments_lexer": "ipython3",
   "version": "3.12.7"
  }
 },
 "nbformat": 4,
 "nbformat_minor": 5
}
